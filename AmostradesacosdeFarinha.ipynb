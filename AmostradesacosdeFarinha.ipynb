{
  "nbformat": 4,
  "nbformat_minor": 0,
  "metadata": {
    "colab": {
      "name": "AmostradesacosdeFarinha.ipynb",
      "provenance": [],
      "collapsed_sections": [],
      "authorship_tag": "ABX9TyPfXX1EU3wDrUVnNjKlUUgj",
      "include_colab_link": true
    },
    "kernelspec": {
      "name": "python3",
      "display_name": "Python 3"
    }
  },
  "cells": [
    {
      "cell_type": "markdown",
      "metadata": {
        "id": "view-in-github",
        "colab_type": "text"
      },
      "source": [
        "<a href=\"https://colab.research.google.com/github/ClebinhoRainbow/DataScience/blob/main/AmostradesacosdeFarinha.ipynb\" target=\"_parent\"><img src=\"https://colab.research.google.com/assets/colab-badge.svg\" alt=\"Open In Colab\"/></a>"
      ]
    },
    {
      "cell_type": "markdown",
      "metadata": {
        "id": "TNdS8Ox30_lb"
      },
      "source": [
        "Um fabricante de farinha verificou que, em uma amostra aleatória formada por 200 sacos de 25 kg de um lote formado por 2.000 sacos, apresentou um desvio padrão amostral do peso igual a 480 g.\r\n",
        "\r\n",
        "Considerando um erro máximo associado à média populacional igual a 0,3 kg e um nível de confiança igual a 95%, qual tamanho de amostra deveria ser selecionado para obtermos uma estimativa confiável do parâmetro populacional?"
      ]
    },
    {
      "cell_type": "code",
      "metadata": {
        "id": "W_meToC807QA"
      },
      "source": [
        "from scipy.stats import norm"
      ],
      "execution_count": 1,
      "outputs": []
    },
    {
      "cell_type": "code",
      "metadata": {
        "colab": {
          "base_uri": "https://localhost:8080/"
        },
        "id": "pXzfzfy61RuO",
        "outputId": "fb57a358-c7bd-4451-8ed7-368118601db4"
      },
      "source": [
        "s = 0.48\r\n",
        "s"
      ],
      "execution_count": 2,
      "outputs": [
        {
          "output_type": "execute_result",
          "data": {
            "text/plain": [
              "0.48"
            ]
          },
          "metadata": {
            "tags": []
          },
          "execution_count": 2
        }
      ]
    },
    {
      "cell_type": "code",
      "metadata": {
        "colab": {
          "base_uri": "https://localhost:8080/"
        },
        "id": "aQZbet_A1aVP",
        "outputId": "109f7ef2-a63c-4a2e-d02d-c232e8623e13"
      },
      "source": [
        "N = 2000\r\n",
        "N"
      ],
      "execution_count": 3,
      "outputs": [
        {
          "output_type": "execute_result",
          "data": {
            "text/plain": [
              "2000"
            ]
          },
          "metadata": {
            "tags": []
          },
          "execution_count": 3
        }
      ]
    },
    {
      "cell_type": "code",
      "metadata": {
        "colab": {
          "base_uri": "https://localhost:8080/"
        },
        "id": "iy6ooM6L1gGG",
        "outputId": "63bfac7e-e1f2-43fb-c170-b47bb2e28b32"
      },
      "source": [
        "e = 0.3\r\n",
        "e"
      ],
      "execution_count": 4,
      "outputs": [
        {
          "output_type": "execute_result",
          "data": {
            "text/plain": [
              "0.3"
            ]
          },
          "metadata": {
            "tags": []
          },
          "execution_count": 4
        }
      ]
    },
    {
      "cell_type": "code",
      "metadata": {
        "colab": {
          "base_uri": "https://localhost:8080/"
        },
        "id": "EDg20ec81o07",
        "outputId": "c1d79eb8-fe69-4a5d-9b89-19d54804407a"
      },
      "source": [
        "z = norm.ppf(0.5+(0.95/2))\r\n",
        "z"
      ],
      "execution_count": 5,
      "outputs": [
        {
          "output_type": "execute_result",
          "data": {
            "text/plain": [
              "1.959963984540054"
            ]
          },
          "metadata": {
            "tags": []
          },
          "execution_count": 5
        }
      ]
    },
    {
      "cell_type": "code",
      "metadata": {
        "colab": {
          "base_uri": "https://localhost:8080/"
        },
        "id": "siHngyMl1u48",
        "outputId": "3af23c04-b35a-47c0-ae66-206edbdff8dd"
      },
      "source": [
        "n = ((z**2)*(s**2)*(N)) / (  ( (z**2)*(e**2) ) + ( (e**2)*(N-1) )  )\r\n",
        "int(n.round())"
      ],
      "execution_count": 6,
      "outputs": [
        {
          "output_type": "execute_result",
          "data": {
            "text/plain": [
              "10"
            ]
          },
          "metadata": {
            "tags": []
          },
          "execution_count": 6
        }
      ]
    },
    {
      "cell_type": "code",
      "metadata": {
        "id": "PW3aFa9811zL"
      },
      "source": [
        "from scipy.stats import norm\r\n",
        "\r\n",
        "N = 2000\r\n",
        "z = norm.ppf(0.5 + (0.95 / 2))\r\n",
        "s = 480\r\n",
        "e = 0.3 * 1000   # Convertendo kg para g\r\n",
        "\r\n",
        "n = ((z**2) * (s**2) * (N)) / (((z**2) * (s**2)) + ((e**2) * (N - 1)))\r\n",
        "int(n.round())"
      ],
      "execution_count": null,
      "outputs": []
    }
  ]
}