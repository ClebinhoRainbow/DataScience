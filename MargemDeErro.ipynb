{
  "nbformat": 4,
  "nbformat_minor": 0,
  "metadata": {
    "colab": {
      "name": "MargemDeErro.ipynb",
      "provenance": [],
      "authorship_tag": "ABX9TyPArbvNBA6H431zFoH++WQb",
      "include_colab_link": true
    },
    "kernelspec": {
      "name": "python3",
      "display_name": "Python 3"
    }
  },
  "cells": [
    {
      "cell_type": "markdown",
      "metadata": {
        "id": "view-in-github",
        "colab_type": "text"
      },
      "source": [
        "<a href=\"https://colab.research.google.com/github/ClebinhoRainbow/DataScience/blob/main/MargemDeErro.ipynb\" target=\"_parent\"><img src=\"https://colab.research.google.com/assets/colab-badge.svg\" alt=\"Open In Colab\"/></a>"
      ]
    },
    {
      "cell_type": "markdown",
      "metadata": {
        "id": "hUUOZzOqo1ZC"
      },
      "source": [
        "Para estimar o valor médio gasto por cada cliente de uma grande rede de fast-food, foi selecionada uma amostra de 50 clientes.\r\n",
        "\r\n",
        "Assumindo que o valor do desvio padrão da população seja de R$ 6,00 e que esta população se distribui normalmente, obtenha a margem de erro desta estimativa para um nível de confiança de 95%."
      ]
    },
    {
      "cell_type": "code",
      "metadata": {
        "colab": {
          "base_uri": "https://localhost:8080/"
        },
        "id": "E5wfXel9o5pF",
        "outputId": "25247420-f036-48ee-9387-c1649dbed3e2"
      },
      "source": [
        "from scipy.stats import norm\r\n",
        "import numpy as np\r\n",
        "\r\n",
        "z = norm.ppf(0.975)\r\n",
        "desvio_padrao = 6\r\n",
        "n = 50\r\n",
        "\r\n",
        "e = z * (desvio_padrao / np.sqrt(n))\r\n",
        "print(\"R$ {0:0.2f}\".format(e))"
      ],
      "execution_count": null,
      "outputs": [
        {
          "output_type": "stream",
          "text": [
            "R$ 1.66\n"
          ],
          "name": "stdout"
        }
      ]
    },
    {
      "cell_type": "code",
      "metadata": {
        "id": "bVIw_BhspLRl"
      },
      "source": [
        ""
      ],
      "execution_count": null,
      "outputs": []
    }
  ]
}