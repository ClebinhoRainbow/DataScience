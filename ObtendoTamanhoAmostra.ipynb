{
  "nbformat": 4,
  "nbformat_minor": 0,
  "metadata": {
    "colab": {
      "name": "ObtendoTamanhoAmostra.ipynb",
      "provenance": [],
      "authorship_tag": "ABX9TyP3B6A5KzEHkjxSvgtogvKK",
      "include_colab_link": true
    },
    "kernelspec": {
      "name": "python3",
      "display_name": "Python 3"
    }
  },
  "cells": [
    {
      "cell_type": "markdown",
      "metadata": {
        "id": "view-in-github",
        "colab_type": "text"
      },
      "source": [
        "<a href=\"https://colab.research.google.com/github/ClebinhoRainbow/DataScience/blob/main/ObtendoTamanhoAmostra.ipynb\" target=\"_parent\"><img src=\"https://colab.research.google.com/assets/colab-badge.svg\" alt=\"Open In Colab\"/></a>"
      ]
    },
    {
      "cell_type": "markdown",
      "metadata": {
        "id": "tBLrf41QteEK"
      },
      "source": [
        "O valor do gasto médio dos clientes de uma loja de conveniência é de R\\$ 45,50. Assumindo que o desvio padrão dos gastos é igual a R\\$ 15,00, qual deve ser o tamanho da amostra para estimarmos a média populacional com um nível de significância de 10%?\r\n",
        "\r\n",
        "Considere que o erro máximo aceitável seja de 10%.\r\n"
      ]
    },
    {
      "cell_type": "code",
      "metadata": {
        "id": "Ru1sXo0ntePp"
      },
      "source": [
        "from scipy.stats import norm"
      ],
      "execution_count": 5,
      "outputs": []
    },
    {
      "cell_type": "code",
      "metadata": {
        "colab": {
          "base_uri": "https://localhost:8080/"
        },
        "id": "SEjal_ovunB5",
        "outputId": "d52f29d5-1f5b-43ac-9551-fdc0c61d2145"
      },
      "source": [
        "0.5 + (0.9 / 2)\r\n"
      ],
      "execution_count": 9,
      "outputs": [
        {
          "output_type": "execute_result",
          "data": {
            "text/plain": [
              "0.95"
            ]
          },
          "metadata": {
            "tags": []
          },
          "execution_count": 9
        }
      ]
    },
    {
      "cell_type": "code",
      "metadata": {
        "colab": {
          "base_uri": "https://localhost:8080/"
        },
        "id": "rcL2KQNru-oc",
        "outputId": "302e4235-f31d-4f7e-e415-1122f598104c"
      },
      "source": [
        "z = norm.ppf(0.95)\r\n",
        "z"
      ],
      "execution_count": 11,
      "outputs": [
        {
          "output_type": "execute_result",
          "data": {
            "text/plain": [
              "1.6448536269514722"
            ]
          },
          "metadata": {
            "tags": []
          },
          "execution_count": 11
        }
      ]
    },
    {
      "cell_type": "code",
      "metadata": {
        "colab": {
          "base_uri": "https://localhost:8080/"
        },
        "id": "7oGYnmE8uAq6",
        "outputId": "dff5e3ce-307d-4820-a775-f498cca1c02a"
      },
      "source": [
        "sigma = 15\r\n",
        "sigma"
      ],
      "execution_count": 12,
      "outputs": [
        {
          "output_type": "execute_result",
          "data": {
            "text/plain": [
              "15"
            ]
          },
          "metadata": {
            "tags": []
          },
          "execution_count": 12
        }
      ]
    },
    {
      "cell_type": "code",
      "metadata": {
        "colab": {
          "base_uri": "https://localhost:8080/"
        },
        "id": "OXDfPspWtvrN",
        "outputId": "6dc7dce5-4b5b-426d-9c0d-2085dd57d9a5"
      },
      "source": [
        "e = 45.5 * .1\r\n",
        "e"
      ],
      "execution_count": 4,
      "outputs": [
        {
          "output_type": "execute_result",
          "data": {
            "text/plain": [
              "4.55"
            ]
          },
          "metadata": {
            "tags": []
          },
          "execution_count": 4
        }
      ]
    },
    {
      "cell_type": "code",
      "metadata": {
        "colab": {
          "base_uri": "https://localhost:8080/"
        },
        "id": "AbUZiQvwudrO",
        "outputId": "63ee5b3b-14a6-44f6-baa1-a84a9bad94ea"
      },
      "source": [
        "n = (z*(sigma)/e)**2\r\n",
        "int(n.round())"
      ],
      "execution_count": 13,
      "outputs": [
        {
          "output_type": "execute_result",
          "data": {
            "text/plain": [
              "29"
            ]
          },
          "metadata": {
            "tags": []
          },
          "execution_count": 13
        }
      ]
    },
    {
      "cell_type": "code",
      "metadata": {
        "id": "4hUYfk7JvLhY"
      },
      "source": [
        "from scipy.stats import norm\r\n",
        "\r\n",
        "media = 45.5\r\n",
        "sigma = 15\r\n",
        "significancia = 0.10\r\n",
        "confianca = 1 - significancia\r\n",
        "\r\n",
        "z = norm.ppf(0.5 + (confianca / 2))\r\n",
        "erro_percentual = 0.10\r\n",
        "e = media * erro_percentual\r\n",
        "\r\n",
        "n = (z * (sigma / e)) ** 2\r\n",
        "n.round()"
      ],
      "execution_count": null,
      "outputs": []
    }
  ]
}