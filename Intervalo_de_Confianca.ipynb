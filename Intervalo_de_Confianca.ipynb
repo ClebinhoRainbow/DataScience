{
  "nbformat": 4,
  "nbformat_minor": 0,
  "metadata": {
    "colab": {
      "name": "Intervalo de Confianca.ipynb",
      "provenance": [],
      "authorship_tag": "ABX9TyP6m5O2NNh4uefWKBQ0FFZQ",
      "include_colab_link": true
    },
    "kernelspec": {
      "name": "python3",
      "display_name": "Python 3"
    }
  },
  "cells": [
    {
      "cell_type": "markdown",
      "metadata": {
        "id": "view-in-github",
        "colab_type": "text"
      },
      "source": [
        "<a href=\"https://colab.research.google.com/github/ClebinhoRainbow/DataScience/blob/main/Intervalo_de_Confianca.ipynb\" target=\"_parent\"><img src=\"https://colab.research.google.com/assets/colab-badge.svg\" alt=\"Open In Colab\"/></a>"
      ]
    },
    {
      "cell_type": "markdown",
      "metadata": {
        "id": "kyhJYwI-phLW"
      },
      "source": [
        "Uma amostra aleatória simples de 1976 itens de uma população normalmente distribuída, com desvio padrão igual a 11, resultou em uma média amostral de 28.\r\n",
        "\r\n",
        "Qual o intervalo de confiança de 90% para a média populacional?"
      ]
    },
    {
      "cell_type": "code",
      "metadata": {
        "colab": {
          "base_uri": "https://localhost:8080/"
        },
        "id": "DH2c0POGpiOk",
        "outputId": "43fb4022-8643-4f0e-ae1e-5dfedd4675f5"
      },
      "source": [
        "from scipy.stats import norm\r\n",
        "import numpy as np\r\n",
        "\r\n",
        "media_amostral = 28\r\n",
        "desvio_padrao = 11\r\n",
        "n = 1976\r\n",
        "\r\n",
        "norm.interval(alpha = 0.90, \r\n",
        "                loc = media_amostral, \r\n",
        "                scale = desvio_padrao / np.sqrt(n))"
      ],
      "execution_count": null,
      "outputs": [
        {
          "output_type": "execute_result",
          "data": {
            "text/plain": [
              "(27.592969951356466, 28.407030048643534)"
            ]
          },
          "metadata": {
            "tags": []
          },
          "execution_count": 1
        }
      ]
    },
    {
      "cell_type": "code",
      "metadata": {
        "id": "iNJTEjuPpozA"
      },
      "source": [
        ""
      ],
      "execution_count": null,
      "outputs": []
    }
  ]
}